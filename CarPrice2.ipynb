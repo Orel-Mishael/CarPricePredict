{
  "nbformat": 4,
  "nbformat_minor": 0,
  "metadata": {
    "colab": {
      "name": "CarPrice.ipynb",
      "provenance": [],
      "collapsed_sections": []
    },
    "kernelspec": {
      "name": "python3",
      "display_name": "Python 3"
    },
    "language_info": {
      "name": "python"
    }
  },
  "cells": [
    {
      "cell_type": "code",
      "metadata": {
        "id": "VF8gDEMFlxE_",
        "colab": {
          "base_uri": "https://localhost:8080/"
        },
        "outputId": "2001aaa8-b36e-46ed-f6aa-f3b709b79a06"
      },
      "source": [
        "import pandas as pd\n",
        "import numpy as np\n",
        "import re\n",
        "import matplotlib.pyplot as plt\n",
        "%matplotlib inline\n",
        "from sklearn.base import TransformerMixin, BaseEstimator\n",
        "!pip install category_encoders\n",
        "import category_encoders as ce \n",
        "from sklearn.model_selection import GridSearchCV\n"
      ],
      "execution_count": 1,
      "outputs": [
        {
          "output_type": "stream",
          "text": [
            "Requirement already satisfied: category_encoders in /usr/local/lib/python3.7/dist-packages (2.2.2)\n",
            "Requirement already satisfied: pandas>=0.21.1 in /usr/local/lib/python3.7/dist-packages (from category_encoders) (1.1.5)\n",
            "Requirement already satisfied: statsmodels>=0.9.0 in /usr/local/lib/python3.7/dist-packages (from category_encoders) (0.10.2)\n",
            "Requirement already satisfied: scipy>=1.0.0 in /usr/local/lib/python3.7/dist-packages (from category_encoders) (1.4.1)\n",
            "Requirement already satisfied: numpy>=1.14.0 in /usr/local/lib/python3.7/dist-packages (from category_encoders) (1.19.5)\n",
            "Requirement already satisfied: patsy>=0.5.1 in /usr/local/lib/python3.7/dist-packages (from category_encoders) (0.5.1)\n",
            "Requirement already satisfied: scikit-learn>=0.20.0 in /usr/local/lib/python3.7/dist-packages (from category_encoders) (0.22.2.post1)\n",
            "Requirement already satisfied: python-dateutil>=2.7.3 in /usr/local/lib/python3.7/dist-packages (from pandas>=0.21.1->category_encoders) (2.8.1)\n",
            "Requirement already satisfied: pytz>=2017.2 in /usr/local/lib/python3.7/dist-packages (from pandas>=0.21.1->category_encoders) (2018.9)\n",
            "Requirement already satisfied: six in /usr/local/lib/python3.7/dist-packages (from patsy>=0.5.1->category_encoders) (1.15.0)\n",
            "Requirement already satisfied: joblib>=0.11 in /usr/local/lib/python3.7/dist-packages (from scikit-learn>=0.20.0->category_encoders) (1.0.1)\n"
          ],
          "name": "stdout"
        },
        {
          "output_type": "stream",
          "text": [
            "/usr/local/lib/python3.7/dist-packages/statsmodels/tools/_testing.py:19: FutureWarning: pandas.util.testing is deprecated. Use the functions in the public API at pandas.testing instead.\n",
            "  import pandas.util.testing as tm\n"
          ],
          "name": "stderr"
        }
      ]
    },
    {
      "cell_type": "code",
      "metadata": {
        "id": "FQjY2__PHJzZ"
      },
      "source": [
        "from sklearn.model_selection import train_test_split\n",
        "from sklearn.ensemble import RandomForestRegressor\n",
        "from sklearn.metrics import mean_squared_error"
      ],
      "execution_count": 2,
      "outputs": []
    },
    {
      "cell_type": "code",
      "metadata": {
        "id": "du2WJFf5tvyI"
      },
      "source": [
        "def replace(group):\n",
        "    mean, std = group.mean(), group.std()\n",
        "    outliers = (group - mean).abs() > 1.5*std\n",
        "    group[outliers] = group[~outliers].mean()\n",
        "    return group\n"
      ],
      "execution_count": 3,
      "outputs": []
    },
    {
      "cell_type": "code",
      "metadata": {
        "id": "a7XNhF3viE3y"
      },
      "source": [
        "def is_outlier(s):\n",
        "    lower_limit = s.mean() - (s.std() * 2.5)\n",
        "    upper_limit = s.mean() + (s.std() * 2.5)\n",
        "    return ~s.between(lower_limit, upper_limit)"
      ],
      "execution_count": 4,
      "outputs": []
    },
    {
      "cell_type": "code",
      "metadata": {
        "id": "VCEr0_UsmDFX"
      },
      "source": [
        "df=pd.read_csv(\"/content/Yad2cars2.csv\")"
      ],
      "execution_count": 5,
      "outputs": []
    },
    {
      "cell_type": "code",
      "metadata": {
        "id": "6S54dGZqiZDB"
      },
      "source": [
        "df=df.drop_duplicates()\n"
      ],
      "execution_count": 6,
      "outputs": []
    },
    {
      "cell_type": "code",
      "metadata": {
        "colab": {
          "base_uri": "https://localhost:8080/",
          "height": 205
        },
        "id": "mpSU5sB4mLM4",
        "outputId": "01bb3cee-2b5e-4f51-99cb-8fb99cab47c3"
      },
      "source": [
        "df.head()"
      ],
      "execution_count": 7,
      "outputs": [
        {
          "output_type": "execute_result",
          "data": {
            "text/html": [
              "<div>\n",
              "<style scoped>\n",
              "    .dataframe tbody tr th:only-of-type {\n",
              "        vertical-align: middle;\n",
              "    }\n",
              "\n",
              "    .dataframe tbody tr th {\n",
              "        vertical-align: top;\n",
              "    }\n",
              "\n",
              "    .dataframe thead th {\n",
              "        text-align: right;\n",
              "    }\n",
              "</style>\n",
              "<table border=\"1\" class=\"dataframe\">\n",
              "  <thead>\n",
              "    <tr style=\"text-align: right;\">\n",
              "      <th></th>\n",
              "      <th>רכב</th>\n",
              "      <th>שנה</th>\n",
              "      <th>יד</th>\n",
              "      <th>נפח מנוע בסמק</th>\n",
              "      <th>מחיר</th>\n",
              "    </tr>\n",
              "  </thead>\n",
              "  <tbody>\n",
              "    <tr>\n",
              "      <th>0</th>\n",
              "      <td>שברולט מאליבו\\nLT אוט' 3.5 (221 כ\"ס)</td>\n",
              "      <td>2010</td>\n",
              "      <td>2</td>\n",
              "      <td>3,500</td>\n",
              "      <td>22,500 ₪</td>\n",
              "    </tr>\n",
              "    <tr>\n",
              "      <th>1</th>\n",
              "      <td>פיג'ו 207\\nTrendy אוט' 1.6 (120 כ\"ס)</td>\n",
              "      <td>2009</td>\n",
              "      <td>3</td>\n",
              "      <td>1,598</td>\n",
              "      <td>9,100 ₪</td>\n",
              "    </tr>\n",
              "    <tr>\n",
              "      <th>2</th>\n",
              "      <td>מיצובישי ספייס סטאר\\nInstyle אוט' 1.2 (80 כ\"ס)</td>\n",
              "      <td>2015</td>\n",
              "      <td>2</td>\n",
              "      <td>1,193</td>\n",
              "      <td>28,000 ₪</td>\n",
              "    </tr>\n",
              "    <tr>\n",
              "      <th>3</th>\n",
              "      <td>אאודי TT\\nDesign קופה אוט' 2.0 (197 כ''ס)</td>\n",
              "      <td>2019</td>\n",
              "      <td>1</td>\n",
              "      <td>1,984</td>\n",
              "      <td>220,000 ₪</td>\n",
              "    </tr>\n",
              "    <tr>\n",
              "      <th>4</th>\n",
              "      <td>מרצדס S-Class\\nS560E AMG Line הייבריד אוט' 3.0...</td>\n",
              "      <td>2019</td>\n",
              "      <td>1</td>\n",
              "      <td>2,996</td>\n",
              "      <td>630,000 ₪</td>\n",
              "    </tr>\n",
              "  </tbody>\n",
              "</table>\n",
              "</div>"
            ],
            "text/plain": [
              "                                                 רכב  ...       מחיר\n",
              "0               שברולט מאליבו\\nLT אוט' 3.5 (221 כ\"ס)  ...   22,500 ₪\n",
              "1               פיג'ו 207\\nTrendy אוט' 1.6 (120 כ\"ס)  ...    9,100 ₪\n",
              "2     מיצובישי ספייס סטאר\\nInstyle אוט' 1.2 (80 כ\"ס)  ...   28,000 ₪\n",
              "3          אאודי TT\\nDesign קופה אוט' 2.0 (197 כ''ס)  ...  220,000 ₪\n",
              "4  מרצדס S-Class\\nS560E AMG Line הייבריד אוט' 3.0...  ...  630,000 ₪\n",
              "\n",
              "[5 rows x 5 columns]"
            ]
          },
          "metadata": {
            "tags": []
          },
          "execution_count": 7
        }
      ]
    },
    {
      "cell_type": "code",
      "metadata": {
        "colab": {
          "base_uri": "https://localhost:8080/"
        },
        "id": "f8sqNfCwib0N",
        "outputId": "51fee7bf-6787-4458-aa10-d9144d57bf22"
      },
      "source": [
        "df.shape"
      ],
      "execution_count": 8,
      "outputs": [
        {
          "output_type": "execute_result",
          "data": {
            "text/plain": [
              "(1457, 5)"
            ]
          },
          "metadata": {
            "tags": []
          },
          "execution_count": 8
        }
      ]
    },
    {
      "cell_type": "code",
      "metadata": {
        "id": "5dfj4iQSmqeZ"
      },
      "source": [
        "df=df.rename(columns={\"מחיר\": \"Price\", \"נפח מנוע בסמק\": \"Engine volume in cmc\",\"יד\":\"Number of owners\",\"שנה\":\"Year\",\"רכב\":\"car\"})\n"
      ],
      "execution_count": 9,
      "outputs": []
    },
    {
      "cell_type": "code",
      "metadata": {
        "id": "lxdPQhPzqT2J"
      },
      "source": [
        "df.car=df.car.str.replace(\"(\",\"@\")\n",
        "df[\"ph\"]=df.car.map(lambda x:\"\".join(re.findall(\"@\\d+\",x)))\n",
        "df['haybrid']=np.where(df.car.str.contains(\"הייבריד\"),1,0)\n",
        "df['brand']=df.car.apply(lambda x:x.split(\"\\n\")[0])\n",
        "df['brand2']=df.brand.map(lambda x:\"\".join(re.findall(\"\\w[a-z-A-Z-0-9]+\",x)))\n",
        "#df['brand2']=df.brand.apply(lambda x: if ( x.startswith(\"\\w[a-z-A-Z-0-9]+\")) then (x.split(\" \")[1]) else( x.str.split(\" \")[0]))\n",
        "df['brand3']=df.brand.apply(lambda x:x.split(\" \")[1] if x.startswith(\"\\w[a-z-A-Z-0-9]+\")else x.split(\" \")[0])\n",
        "df['Model']=df.brand.apply(lambda x:\" \".join(x.split(\" \")[0] if x.startswith(\"\\w[a-z-A-Z-0-9]+\")else x.split(\" \")[1:4]))\n",
        "df['liter']=df.car.map(lambda x:\"\".join(re.findall(r\"\\d\\.\\d{1}\",x)))\n",
        "df=df.replace('-',np.NaN)\n",
        "df.Price=df.Price.apply(lambda x:x.replace(\"₪\",\"\"))\n",
        "df['Number of owners']=df['Number of owners'].apply(lambda x:x.replace(\"10+\",\"10\"))\n",
        "df['liter']=np.where(df.liter=='',\"0\",df.liter)\n",
        "df.Price=df.Price.str.strip().replace('לא צוין מחיר','0')#.replace(\",\",\"\").astype('float')\n",
        "df.Price=df.Price.apply(lambda x:x.replace(\",\",\"\")).astype('float')\n",
        "df.ph=df.ph.apply(lambda x: re.sub(\"[1-3][0-9]{3}\",\"\",x ).replace(\"@\",\"\"))\n",
        "df.ph=df.ph.apply(lambda x:np.nan if x==\"\" else x )\n",
        "df['years_bin']=pd.qcut(df.Year.astype('float'),5,labels=False)\n",
        "#*******\n",
        "df=df[~((df.liter=='2.02.0')|(df.liter=='2.52.5')|(df.liter=='020.00020.000')|(df.liter=='0'))]\n"
      ],
      "execution_count": 10,
      "outputs": []
    },
    {
      "cell_type": "code",
      "metadata": {
        "id": "OYLDTuu-qBOu",
        "colab": {
          "base_uri": "https://localhost:8080/",
          "height": 257
        },
        "outputId": "6bb53fa5-aefb-4065-c193-d7105d54708d"
      },
      "source": [
        "df.head()\n"
      ],
      "execution_count": 11,
      "outputs": [
        {
          "output_type": "execute_result",
          "data": {
            "text/html": [
              "<div>\n",
              "<style scoped>\n",
              "    .dataframe tbody tr th:only-of-type {\n",
              "        vertical-align: middle;\n",
              "    }\n",
              "\n",
              "    .dataframe tbody tr th {\n",
              "        vertical-align: top;\n",
              "    }\n",
              "\n",
              "    .dataframe thead th {\n",
              "        text-align: right;\n",
              "    }\n",
              "</style>\n",
              "<table border=\"1\" class=\"dataframe\">\n",
              "  <thead>\n",
              "    <tr style=\"text-align: right;\">\n",
              "      <th></th>\n",
              "      <th>car</th>\n",
              "      <th>Year</th>\n",
              "      <th>Number of owners</th>\n",
              "      <th>Engine volume in cmc</th>\n",
              "      <th>Price</th>\n",
              "      <th>ph</th>\n",
              "      <th>haybrid</th>\n",
              "      <th>brand</th>\n",
              "      <th>brand2</th>\n",
              "      <th>brand3</th>\n",
              "      <th>Model</th>\n",
              "      <th>liter</th>\n",
              "      <th>years_bin</th>\n",
              "    </tr>\n",
              "  </thead>\n",
              "  <tbody>\n",
              "    <tr>\n",
              "      <th>0</th>\n",
              "      <td>שברולט מאליבו\\nLT אוט' 3.5 @221 כ\"ס)</td>\n",
              "      <td>2010</td>\n",
              "      <td>2</td>\n",
              "      <td>3,500</td>\n",
              "      <td>22500.0</td>\n",
              "      <td>221</td>\n",
              "      <td>0</td>\n",
              "      <td>שברולט מאליבו</td>\n",
              "      <td></td>\n",
              "      <td>שברולט</td>\n",
              "      <td>מאליבו</td>\n",
              "      <td>3.5</td>\n",
              "      <td>0.0</td>\n",
              "    </tr>\n",
              "    <tr>\n",
              "      <th>1</th>\n",
              "      <td>פיג'ו 207\\nTrendy אוט' 1.6 @120 כ\"ס)</td>\n",
              "      <td>2009</td>\n",
              "      <td>3</td>\n",
              "      <td>1,598</td>\n",
              "      <td>9100.0</td>\n",
              "      <td>120</td>\n",
              "      <td>0</td>\n",
              "      <td>פיג'ו 207</td>\n",
              "      <td>207</td>\n",
              "      <td>פיג'ו</td>\n",
              "      <td>207</td>\n",
              "      <td>1.6</td>\n",
              "      <td>0.0</td>\n",
              "    </tr>\n",
              "    <tr>\n",
              "      <th>2</th>\n",
              "      <td>מיצובישי ספייס סטאר\\nInstyle אוט' 1.2 @80 כ\"ס)</td>\n",
              "      <td>2015</td>\n",
              "      <td>2</td>\n",
              "      <td>1,193</td>\n",
              "      <td>28000.0</td>\n",
              "      <td>80</td>\n",
              "      <td>0</td>\n",
              "      <td>מיצובישי ספייס סטאר</td>\n",
              "      <td></td>\n",
              "      <td>מיצובישי</td>\n",
              "      <td>ספייס סטאר</td>\n",
              "      <td>1.2</td>\n",
              "      <td>2.0</td>\n",
              "    </tr>\n",
              "    <tr>\n",
              "      <th>3</th>\n",
              "      <td>אאודי TT\\nDesign קופה אוט' 2.0 @197 כ''ס)</td>\n",
              "      <td>2019</td>\n",
              "      <td>1</td>\n",
              "      <td>1,984</td>\n",
              "      <td>220000.0</td>\n",
              "      <td>197</td>\n",
              "      <td>0</td>\n",
              "      <td>אאודי TT</td>\n",
              "      <td>TT</td>\n",
              "      <td>אאודי</td>\n",
              "      <td>TT</td>\n",
              "      <td>2.0</td>\n",
              "      <td>4.0</td>\n",
              "    </tr>\n",
              "    <tr>\n",
              "      <th>4</th>\n",
              "      <td>מרצדס S-Class\\nS560E AMG Line הייבריד אוט' 3.0...</td>\n",
              "      <td>2019</td>\n",
              "      <td>1</td>\n",
              "      <td>2,996</td>\n",
              "      <td>630000.0</td>\n",
              "      <td>367</td>\n",
              "      <td>1</td>\n",
              "      <td>מרצדס S-Class</td>\n",
              "      <td>S-Class</td>\n",
              "      <td>מרצדס</td>\n",
              "      <td>S-Class</td>\n",
              "      <td>3.0</td>\n",
              "      <td>4.0</td>\n",
              "    </tr>\n",
              "  </tbody>\n",
              "</table>\n",
              "</div>"
            ],
            "text/plain": [
              "                                                 car  Year  ... liter years_bin\n",
              "0               שברולט מאליבו\\nLT אוט' 3.5 @221 כ\"ס)  2010  ...   3.5       0.0\n",
              "1               פיג'ו 207\\nTrendy אוט' 1.6 @120 כ\"ס)  2009  ...   1.6       0.0\n",
              "2     מיצובישי ספייס סטאר\\nInstyle אוט' 1.2 @80 כ\"ס)  2015  ...   1.2       2.0\n",
              "3          אאודי TT\\nDesign קופה אוט' 2.0 @197 כ''ס)  2019  ...   2.0       4.0\n",
              "4  מרצדס S-Class\\nS560E AMG Line הייבריד אוט' 3.0...  2019  ...   3.0       4.0\n",
              "\n",
              "[5 rows x 13 columns]"
            ]
          },
          "metadata": {
            "tags": []
          },
          "execution_count": 11
        }
      ]
    },
    {
      "cell_type": "code",
      "metadata": {
        "id": "tBBYY2AVmABr"
      },
      "source": [
        "\n",
        "#from google.colab import drive\n",
        "#drive.mount('/content/drive')"
      ],
      "execution_count": 12,
      "outputs": []
    },
    {
      "cell_type": "markdown",
      "metadata": {
        "id": "tJOz3WQwomXg"
      },
      "source": [
        ""
      ]
    },
    {
      "cell_type": "code",
      "metadata": {
        "id": "zuBT4YpnlmjF"
      },
      "source": [
        "#df=df.convert_dtypes()\n",
        "#*********\n",
        "#df=df[~df['years_bin'].isna()]\n",
        "#df[~df.groupby(['brand3','liter','years_bin'])['Price'].apply(is_outlier)]\n",
        "#********\n",
        "#df3.Price=df.Price.astype('int64')\n",
        "#df3.groupby(['liter','years_bin']).Price.transform(replace)\n"
      ],
      "execution_count": 13,
      "outputs": []
    },
    {
      "cell_type": "code",
      "metadata": {
        "colab": {
          "base_uri": "https://localhost:8080/",
          "height": 205
        },
        "id": "jw0UfTbZpK1M",
        "outputId": "a9e2ffe8-e474-4a79-d93a-0150e0b9f994"
      },
      "source": [
        "\n",
        "df_new=df[['years_bin','Number of owners','Price','haybrid','brand3','liter']]\n",
        "df_new.head()"
      ],
      "execution_count": 14,
      "outputs": [
        {
          "output_type": "execute_result",
          "data": {
            "text/html": [
              "<div>\n",
              "<style scoped>\n",
              "    .dataframe tbody tr th:only-of-type {\n",
              "        vertical-align: middle;\n",
              "    }\n",
              "\n",
              "    .dataframe tbody tr th {\n",
              "        vertical-align: top;\n",
              "    }\n",
              "\n",
              "    .dataframe thead th {\n",
              "        text-align: right;\n",
              "    }\n",
              "</style>\n",
              "<table border=\"1\" class=\"dataframe\">\n",
              "  <thead>\n",
              "    <tr style=\"text-align: right;\">\n",
              "      <th></th>\n",
              "      <th>years_bin</th>\n",
              "      <th>Number of owners</th>\n",
              "      <th>Price</th>\n",
              "      <th>haybrid</th>\n",
              "      <th>brand3</th>\n",
              "      <th>liter</th>\n",
              "    </tr>\n",
              "  </thead>\n",
              "  <tbody>\n",
              "    <tr>\n",
              "      <th>0</th>\n",
              "      <td>0.0</td>\n",
              "      <td>2</td>\n",
              "      <td>22500.0</td>\n",
              "      <td>0</td>\n",
              "      <td>שברולט</td>\n",
              "      <td>3.5</td>\n",
              "    </tr>\n",
              "    <tr>\n",
              "      <th>1</th>\n",
              "      <td>0.0</td>\n",
              "      <td>3</td>\n",
              "      <td>9100.0</td>\n",
              "      <td>0</td>\n",
              "      <td>פיג'ו</td>\n",
              "      <td>1.6</td>\n",
              "    </tr>\n",
              "    <tr>\n",
              "      <th>2</th>\n",
              "      <td>2.0</td>\n",
              "      <td>2</td>\n",
              "      <td>28000.0</td>\n",
              "      <td>0</td>\n",
              "      <td>מיצובישי</td>\n",
              "      <td>1.2</td>\n",
              "    </tr>\n",
              "    <tr>\n",
              "      <th>3</th>\n",
              "      <td>4.0</td>\n",
              "      <td>1</td>\n",
              "      <td>220000.0</td>\n",
              "      <td>0</td>\n",
              "      <td>אאודי</td>\n",
              "      <td>2.0</td>\n",
              "    </tr>\n",
              "    <tr>\n",
              "      <th>4</th>\n",
              "      <td>4.0</td>\n",
              "      <td>1</td>\n",
              "      <td>630000.0</td>\n",
              "      <td>1</td>\n",
              "      <td>מרצדס</td>\n",
              "      <td>3.0</td>\n",
              "    </tr>\n",
              "  </tbody>\n",
              "</table>\n",
              "</div>"
            ],
            "text/plain": [
              "   years_bin Number of owners     Price  haybrid    brand3 liter\n",
              "0        0.0                2   22500.0        0    שברולט   3.5\n",
              "1        0.0                3    9100.0        0     פיג'ו   1.6\n",
              "2        2.0                2   28000.0        0  מיצובישי   1.2\n",
              "3        4.0                1  220000.0        0     אאודי   2.0\n",
              "4        4.0                1  630000.0        1     מרצדס   3.0"
            ]
          },
          "metadata": {
            "tags": []
          },
          "execution_count": 14
        }
      ]
    },
    {
      "cell_type": "code",
      "metadata": {
        "colab": {
          "base_uri": "https://localhost:8080/"
        },
        "id": "-ljzNep5egVM",
        "outputId": "d9a4c4c4-e742-421c-d16e-ac860d6b4711"
      },
      "source": [
        "df_new.columns"
      ],
      "execution_count": 15,
      "outputs": [
        {
          "output_type": "execute_result",
          "data": {
            "text/plain": [
              "Index(['years_bin', 'Number of owners', 'Price', 'haybrid', 'brand3', 'liter'], dtype='object')"
            ]
          },
          "metadata": {
            "tags": []
          },
          "execution_count": 15
        }
      ]
    },
    {
      "cell_type": "code",
      "metadata": {
        "id": "0uXhgIJrbvuN"
      },
      "source": [
        "df_new=df_new[df_new['Price']!=0]\n",
        "#df_new=df_new.convert_dtypes()\n",
        "df_new[\"Number of owners\"]=df_new[\"Number of owners\"].astype('int')\n",
        "df_new[\"liter\"]=df_new[\"liter\"].astype('float')"
      ],
      "execution_count": 16,
      "outputs": []
    },
    {
      "cell_type": "code",
      "metadata": {
        "id": "kBBhPy5sdWek"
      },
      "source": [
        "\n",
        "#df_new.liter.\n",
        "#df_new.years_bin[]\n"
      ],
      "execution_count": 17,
      "outputs": []
    },
    {
      "cell_type": "code",
      "metadata": {
        "id": "aMdJZsInB2wU"
      },
      "source": [
        "class TargetRatingTransformer  (TransformerMixin, BaseEstimator):  # TransformerMixin needed for fit_transform\n",
        "    \n",
        "    def __init__(self):\n",
        "        super().__init__() \n",
        "        self.ce_target = ce.TargetEncoder(cols =['brand3','years_bin'])\n",
        "\n",
        "    \n",
        "        \n",
        "    def fit (self ,X ,y):\n",
        "       self.ce_target.fit(X,y)\n",
        "       return self\n",
        "    \n",
        "    \n",
        "    def transform(self, X ):\n",
        "       ce_target_df=self.ce_target.transform(X) \n",
        "       \n",
        "        \n",
        "       return   ce_target_df"
      ],
      "execution_count": 18,
      "outputs": []
    },
    {
      "cell_type": "code",
      "metadata": {
        "id": "h2mSczL5GlCd"
      },
      "source": [
        "X=df_new.drop(['Price'],axis=1)\n",
        "y=df_new['Price']\n",
        "X_train, X_test, y_train, y_test = train_test_split(  X, y, test_size=0.33) "
      ],
      "execution_count": 19,
      "outputs": []
    },
    {
      "cell_type": "code",
      "metadata": {
        "colab": {
          "base_uri": "https://localhost:8080/"
        },
        "id": "Em3fQ_EUHMvI",
        "outputId": "23c58d4c-f1fe-463b-e2d7-9badbcb9c884"
      },
      "source": [
        "my_target_encoder=TargetRatingTransformer()\n",
        "df_train=my_target_encoder.fit_transform(X_train,y_train)\n",
        "df_test=my_target_encoder.transform(X_test)"
      ],
      "execution_count": 20,
      "outputs": [
        {
          "output_type": "stream",
          "text": [
            "/usr/local/lib/python3.7/dist-packages/category_encoders/utils.py:21: FutureWarning: is_categorical is deprecated and will be removed in a future version.  Use is_categorical_dtype instead\n",
            "  elif pd.api.types.is_categorical(cols):\n"
          ],
          "name": "stderr"
        }
      ]
    },
    {
      "cell_type": "code",
      "metadata": {
        "colab": {
          "base_uri": "https://localhost:8080/"
        },
        "id": "ayPKzWjuVg4V",
        "outputId": "511c90d1-6993-4cc1-943c-a8c763748959"
      },
      "source": [
        "y_train.shape"
      ],
      "execution_count": 28,
      "outputs": [
        {
          "output_type": "execute_result",
          "data": {
            "text/plain": [
              "(841,)"
            ]
          },
          "metadata": {
            "tags": []
          },
          "execution_count": 28
        }
      ]
    },
    {
      "cell_type": "code",
      "metadata": {
        "id": "qne8aBzbJ4ww"
      },
      "source": [
        "regr = RandomForestRegressor()\n",
        "parameters = {'max_depth':[2, 10],'min_samples_split':[2,10]}\n",
        "random_regr = GridSearchCV(regr, parameters,cv=10)"
      ],
      "execution_count": 31,
      "outputs": []
    },
    {
      "cell_type": "code",
      "metadata": {
        "id": "BYzpX5V5QRFG"
      },
      "source": [
        "random_regr.fit(df_train,y_train)\n",
        "y_pred=random_regr.predict(df_test)"
      ],
      "execution_count": 32,
      "outputs": []
    },
    {
      "cell_type": "code",
      "metadata": {
        "colab": {
          "base_uri": "https://localhost:8080/"
        },
        "id": "w750tMAARJMe",
        "outputId": "7186c2c9-45d9-4eb6-9f35-8d9597225c46"
      },
      "source": [
        "mean_squared_error(y_test, y_pred)"
      ],
      "execution_count": 33,
      "outputs": [
        {
          "output_type": "execute_result",
          "data": {
            "text/plain": [
              "1700742735.0863059"
            ]
          },
          "metadata": {
            "tags": []
          },
          "execution_count": 33
        }
      ]
    }
  ]
}