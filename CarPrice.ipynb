{
  "nbformat": 4,
  "nbformat_minor": 0,
  "metadata": {
    "colab": {
      "name": "CarPrice.ipynb",
      "provenance": [],
      "collapsed_sections": []
    },
    "kernelspec": {
      "name": "python3",
      "display_name": "Python 3"
    },
    "language_info": {
      "name": "python"
    }
  },
  "cells": [
    {
      "cell_type": "code",
      "metadata": {
        "id": "VF8gDEMFlxE_"
      },
      "source": [
        "import pandas as pd\n",
        "import numpy as np\n",
        "import re"
      ],
      "execution_count": 1,
      "outputs": []
    },
    {
      "cell_type": "code",
      "metadata": {
        "id": "VCEr0_UsmDFX"
      },
      "source": [
        "df=pd.read_csv(\"/content/Yad2cars2.csv\")"
      ],
      "execution_count": 2,
      "outputs": []
    },
    {
      "cell_type": "code",
      "metadata": {
        "colab": {
          "base_uri": "https://localhost:8080/",
          "height": 497
        },
        "id": "mpSU5sB4mLM4",
        "outputId": "9a871158-687d-449c-9e3a-91ed7f648e25"
      },
      "source": [
        "df.head(15)"
      ],
      "execution_count": 3,
      "outputs": [
        {
          "output_type": "execute_result",
          "data": {
            "text/html": [
              "<div>\n",
              "<style scoped>\n",
              "    .dataframe tbody tr th:only-of-type {\n",
              "        vertical-align: middle;\n",
              "    }\n",
              "\n",
              "    .dataframe tbody tr th {\n",
              "        vertical-align: top;\n",
              "    }\n",
              "\n",
              "    .dataframe thead th {\n",
              "        text-align: right;\n",
              "    }\n",
              "</style>\n",
              "<table border=\"1\" class=\"dataframe\">\n",
              "  <thead>\n",
              "    <tr style=\"text-align: right;\">\n",
              "      <th></th>\n",
              "      <th>רכב</th>\n",
              "      <th>שנה</th>\n",
              "      <th>יד</th>\n",
              "      <th>נפח מנוע בסמק</th>\n",
              "      <th>מחיר</th>\n",
              "    </tr>\n",
              "  </thead>\n",
              "  <tbody>\n",
              "    <tr>\n",
              "      <th>0</th>\n",
              "      <td>שברולט מאליבו\\nLT אוט' 3.5 (221 כ\"ס)</td>\n",
              "      <td>2010</td>\n",
              "      <td>2</td>\n",
              "      <td>3,500</td>\n",
              "      <td>22,500 ₪</td>\n",
              "    </tr>\n",
              "    <tr>\n",
              "      <th>1</th>\n",
              "      <td>פיג'ו 207\\nTrendy אוט' 1.6 (120 כ\"ס)</td>\n",
              "      <td>2009</td>\n",
              "      <td>3</td>\n",
              "      <td>1,598</td>\n",
              "      <td>9,100 ₪</td>\n",
              "    </tr>\n",
              "    <tr>\n",
              "      <th>2</th>\n",
              "      <td>מיצובישי ספייס סטאר\\nInstyle אוט' 1.2 (80 כ\"ס)</td>\n",
              "      <td>2015</td>\n",
              "      <td>2</td>\n",
              "      <td>1,193</td>\n",
              "      <td>28,000 ₪</td>\n",
              "    </tr>\n",
              "    <tr>\n",
              "      <th>3</th>\n",
              "      <td>אאודי TT\\nDesign קופה אוט' 2.0 (197 כ''ס)</td>\n",
              "      <td>2019</td>\n",
              "      <td>1</td>\n",
              "      <td>1,984</td>\n",
              "      <td>220,000 ₪</td>\n",
              "    </tr>\n",
              "    <tr>\n",
              "      <th>4</th>\n",
              "      <td>מרצדס S-Class\\nS560E AMG Line הייבריד אוט' 3.0...</td>\n",
              "      <td>2019</td>\n",
              "      <td>1</td>\n",
              "      <td>2,996</td>\n",
              "      <td>630,000 ₪</td>\n",
              "    </tr>\n",
              "    <tr>\n",
              "      <th>5</th>\n",
              "      <td>אאודי A6\\nC7 Luxury אוט' 2.0 (180 כ''ס)</td>\n",
              "      <td>2012</td>\n",
              "      <td>2</td>\n",
              "      <td>1,984</td>\n",
              "      <td>74,000 ₪</td>\n",
              "    </tr>\n",
              "    <tr>\n",
              "      <th>6</th>\n",
              "      <td>אאודי A3\\nSportback אוט' 1.5 (150 כ''ס)</td>\n",
              "      <td>2020</td>\n",
              "      <td>1</td>\n",
              "      <td>1,498</td>\n",
              "      <td>151,000 ₪</td>\n",
              "    </tr>\n",
              "    <tr>\n",
              "      <th>7</th>\n",
              "      <td>טויוטה יאריס\\nSol אוט' 1.3 (87 כ''ס)</td>\n",
              "      <td>2004</td>\n",
              "      <td>4</td>\n",
              "      <td>1,298</td>\n",
              "      <td>12,000 ₪</td>\n",
              "    </tr>\n",
              "    <tr>\n",
              "      <th>8</th>\n",
              "      <td>שברולט מאליבו\\nLT Luxury אוט' 1.5 (160 כ\"ס)</td>\n",
              "      <td>2017</td>\n",
              "      <td>2</td>\n",
              "      <td>1,490</td>\n",
              "      <td>90,000 ₪</td>\n",
              "    </tr>\n",
              "    <tr>\n",
              "      <th>9</th>\n",
              "      <td>יונדאי סונטה הייבריד\\nPremium הייבריד אוט' 2.0...</td>\n",
              "      <td>2016</td>\n",
              "      <td>1</td>\n",
              "      <td>1,999</td>\n",
              "      <td>67,000 ₪</td>\n",
              "    </tr>\n",
              "    <tr>\n",
              "      <th>10</th>\n",
              "      <td>פולקסווגן גולף GTI\\nPerformance GTI אוט' 5 דל'...</td>\n",
              "      <td>2019</td>\n",
              "      <td>1</td>\n",
              "      <td>1,984</td>\n",
              "      <td>186,000 ₪</td>\n",
              "    </tr>\n",
              "    <tr>\n",
              "      <th>11</th>\n",
              "      <td>רנו זואי\\nIntense אוט' חשמלי (109 כ''ס)</td>\n",
              "      <td>2020</td>\n",
              "      <td>1</td>\n",
              "      <td>-</td>\n",
              "      <td>110,000 ₪</td>\n",
              "    </tr>\n",
              "    <tr>\n",
              "      <th>12</th>\n",
              "      <td>קיה נירו הייבריד\\nEX סטיישן הייבריד אוט' 1.6 (...</td>\n",
              "      <td>2017</td>\n",
              "      <td>1</td>\n",
              "      <td>1,580</td>\n",
              "      <td>94,500 ₪</td>\n",
              "    </tr>\n",
              "    <tr>\n",
              "      <th>13</th>\n",
              "      <td>אלפא רומיאו ג'ולייטה\\nCompetizione רובוטית 1.4...</td>\n",
              "      <td>2017</td>\n",
              "      <td>1</td>\n",
              "      <td>1,368</td>\n",
              "      <td>67,500 ₪</td>\n",
              "    </tr>\n",
              "    <tr>\n",
              "      <th>14</th>\n",
              "      <td>אלפא רומיאו מיטו / MITO\\nCompetizione אוט' 1.4...</td>\n",
              "      <td>2017</td>\n",
              "      <td>2</td>\n",
              "      <td>1,368</td>\n",
              "      <td>78,000 ₪</td>\n",
              "    </tr>\n",
              "  </tbody>\n",
              "</table>\n",
              "</div>"
            ],
            "text/plain": [
              "                                                  רכב  ...       מחיר\n",
              "0                שברולט מאליבו\\nLT אוט' 3.5 (221 כ\"ס)  ...   22,500 ₪\n",
              "1                פיג'ו 207\\nTrendy אוט' 1.6 (120 כ\"ס)  ...    9,100 ₪\n",
              "2      מיצובישי ספייס סטאר\\nInstyle אוט' 1.2 (80 כ\"ס)  ...   28,000 ₪\n",
              "3           אאודי TT\\nDesign קופה אוט' 2.0 (197 כ''ס)  ...  220,000 ₪\n",
              "4   מרצדס S-Class\\nS560E AMG Line הייבריד אוט' 3.0...  ...  630,000 ₪\n",
              "5             אאודי A6\\nC7 Luxury אוט' 2.0 (180 כ''ס)  ...   74,000 ₪\n",
              "6             אאודי A3\\nSportback אוט' 1.5 (150 כ''ס)  ...  151,000 ₪\n",
              "7                טויוטה יאריס\\nSol אוט' 1.3 (87 כ''ס)  ...   12,000 ₪\n",
              "8         שברולט מאליבו\\nLT Luxury אוט' 1.5 (160 כ\"ס)  ...   90,000 ₪\n",
              "9   יונדאי סונטה הייבריד\\nPremium הייבריד אוט' 2.0...  ...   67,000 ₪\n",
              "10  פולקסווגן גולף GTI\\nPerformance GTI אוט' 5 דל'...  ...  186,000 ₪\n",
              "11            רנו זואי\\nIntense אוט' חשמלי (109 כ''ס)  ...  110,000 ₪\n",
              "12  קיה נירו הייבריד\\nEX סטיישן הייבריד אוט' 1.6 (...  ...   94,500 ₪\n",
              "13  אלפא רומיאו ג'ולייטה\\nCompetizione רובוטית 1.4...  ...   67,500 ₪\n",
              "14  אלפא רומיאו מיטו / MITO\\nCompetizione אוט' 1.4...  ...   78,000 ₪\n",
              "\n",
              "[15 rows x 5 columns]"
            ]
          },
          "metadata": {
            "tags": []
          },
          "execution_count": 3
        }
      ]
    },
    {
      "cell_type": "code",
      "metadata": {
        "id": "5dfj4iQSmqeZ"
      },
      "source": [
        "df=df.rename(columns={\"מחיר\": \"Price\", \"נפח מנוע בסמק\": \"Engine volume in cmc\",\"יד\":\"Number of owners\",\"שנה\":\"Year\",\"רכב\":\"car\"})\n"
      ],
      "execution_count": 4,
      "outputs": []
    },
    {
      "cell_type": "code",
      "metadata": {
        "id": "lxdPQhPzqT2J"
      },
      "source": [
        "df.car=df.car.str.replace(\"(\",\"@\")\n",
        "df[\"ph\"]=df.car.map(lambda x:\"\".join(re.findall(\"@\\d+\",x)))\n",
        "df['haybrid']=np.where(df.car.str.contains(\"הייבריד\"),1,0)\n",
        "df['brand']=df.car.apply(lambda x:x.split(\"\\n\")[0])\n",
        "df['brand2']=df.brand.map(lambda x:\"\".join(re.findall(\"\\w[a-z-A-Z-0-9]+\",x)))\n",
        "#df['brand2']=df.brand.apply(lambda x: if ( x.startswith(\"\\w[a-z-A-Z-0-9]+\")) then (x.split(\" \")[1]) else( x.str.split(\" \")[0]))\n",
        "df['brand3']=df.brand.apply(lambda x:x.split(\" \")[1] if x.startswith(\"\\w[a-z-A-Z-0-9]+\")else x.split(\" \")[0])\n",
        "df['Model']=df.brand.apply(lambda x:\" \".join(x.split(\" \")[0] if x.startswith(\"\\w[a-z-A-Z-0-9]+\")else x.split(\" \")[1:4]))\n",
        "\n"
      ],
      "execution_count": 17,
      "outputs": []
    },
    {
      "cell_type": "code",
      "metadata": {
        "colab": {
          "base_uri": "https://localhost:8080/"
        },
        "id": "U2Us_F7fIUN9",
        "outputId": "44f2948d-8b66-4c16-da42-4d0f3ad3632c"
      },
      "source": [
        "#df.Model.value_counts(normalize=True).head(25)\n",
        "df=df.replace('-',np.NaN)\n",
        "\n",
        "df.Price=df.Price.apply(lambda x:x.replace(\"₪\",\"\"))\n",
        "df.Price.head()\n"
      ],
      "execution_count": 39,
      "outputs": [
        {
          "output_type": "execute_result",
          "data": {
            "text/plain": [
              "0     22,500 \n",
              "1      9,100 \n",
              "2     28,000 \n",
              "3    220,000 \n",
              "4    630,000 \n",
              "Name: Price, dtype: object"
            ]
          },
          "metadata": {
            "tags": []
          },
          "execution_count": 39
        }
      ]
    }
  ]
}